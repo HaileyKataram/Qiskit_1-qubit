{
  "nbformat": 4,
  "nbformat_minor": 0,
  "metadata": {
    "colab": {
      "provenance": [],
      "include_colab_link": true
    },
    "kernelspec": {
      "name": "python3",
      "display_name": "Python 3"
    },
    "language_info": {
      "name": "python"
    }
  },
  "cells": [
    {
      "cell_type": "markdown",
      "metadata": {
        "id": "view-in-github",
        "colab_type": "text"
      },
      "source": [
        "<a href=\"https://colab.research.google.com/github/HaileyKataram/Qiskit_1-qubit/blob/main/Qiskit_1_qubit_Verify.ipynb\" target=\"_parent\"><img src=\"https://colab.research.google.com/assets/colab-badge.svg\" alt=\"Open In Colab\"/></a>"
      ]
    },
    {
      "cell_type": "code",
      "source": [
        "!pip install qiskit qiskit-aer --upgrade"
      ],
      "metadata": {
        "id": "Mx6284lurNt1",
        "colab": {
          "base_uri": "https://localhost:8080/"
        },
        "outputId": "85ce4f5c-d827-4c7e-b306-dae5a6cbf2a1"
      },
      "execution_count": 1,
      "outputs": [
        {
          "output_type": "stream",
          "name": "stdout",
          "text": [
            "Collecting qiskit\n",
            "  Downloading qiskit-2.2.1-cp39-abi3-manylinux2014_x86_64.manylinux_2_17_x86_64.whl.metadata (12 kB)\n",
            "Collecting qiskit-aer\n",
            "  Downloading qiskit_aer-0.17.2-cp312-cp312-manylinux_2_17_x86_64.manylinux2014_x86_64.whl.metadata (8.3 kB)\n",
            "Collecting rustworkx>=0.15.0 (from qiskit)\n",
            "  Downloading rustworkx-0.17.1-cp39-abi3-manylinux_2_17_x86_64.manylinux2014_x86_64.whl.metadata (10 kB)\n",
            "Requirement already satisfied: numpy<3,>=1.17 in /usr/local/lib/python3.12/dist-packages (from qiskit) (2.0.2)\n",
            "Requirement already satisfied: scipy>=1.5 in /usr/local/lib/python3.12/dist-packages (from qiskit) (1.16.2)\n",
            "Requirement already satisfied: dill>=0.3 in /usr/local/lib/python3.12/dist-packages (from qiskit) (0.3.8)\n",
            "Collecting stevedore>=3.0.0 (from qiskit)\n",
            "  Downloading stevedore-5.5.0-py3-none-any.whl.metadata (2.2 kB)\n",
            "Requirement already satisfied: typing-extensions in /usr/local/lib/python3.12/dist-packages (from qiskit) (4.15.0)\n",
            "Requirement already satisfied: psutil>=5 in /usr/local/lib/python3.12/dist-packages (from qiskit-aer) (5.9.5)\n",
            "Requirement already satisfied: python-dateutil>=2.8.0 in /usr/local/lib/python3.12/dist-packages (from qiskit-aer) (2.9.0.post0)\n",
            "Requirement already satisfied: six>=1.5 in /usr/local/lib/python3.12/dist-packages (from python-dateutil>=2.8.0->qiskit-aer) (1.17.0)\n",
            "Downloading qiskit-2.2.1-cp39-abi3-manylinux2014_x86_64.manylinux_2_17_x86_64.whl (8.0 MB)\n",
            "\u001b[2K   \u001b[90m━━━━━━━━━━━━━━━━━━━━━━━━━━━━━━━━━━━━━━━━\u001b[0m \u001b[32m8.0/8.0 MB\u001b[0m \u001b[31m57.8 MB/s\u001b[0m eta \u001b[36m0:00:00\u001b[0m\n",
            "\u001b[?25hDownloading qiskit_aer-0.17.2-cp312-cp312-manylinux_2_17_x86_64.manylinux2014_x86_64.whl (12.4 MB)\n",
            "\u001b[2K   \u001b[90m━━━━━━━━━━━━━━━━━━━━━━━━━━━━━━━━━━━━━━━━\u001b[0m \u001b[32m12.4/12.4 MB\u001b[0m \u001b[31m71.4 MB/s\u001b[0m eta \u001b[36m0:00:00\u001b[0m\n",
            "\u001b[?25hDownloading rustworkx-0.17.1-cp39-abi3-manylinux_2_17_x86_64.manylinux2014_x86_64.whl (2.2 MB)\n",
            "\u001b[2K   \u001b[90m━━━━━━━━━━━━━━━━━━━━━━━━━━━━━━━━━━━━━━━━\u001b[0m \u001b[32m2.2/2.2 MB\u001b[0m \u001b[31m57.0 MB/s\u001b[0m eta \u001b[36m0:00:00\u001b[0m\n",
            "\u001b[?25hDownloading stevedore-5.5.0-py3-none-any.whl (49 kB)\n",
            "\u001b[2K   \u001b[90m━━━━━━━━━━━━━━━━━━━━━━━━━━━━━━━━━━━━━━━━\u001b[0m \u001b[32m49.5/49.5 kB\u001b[0m \u001b[31m5.0 MB/s\u001b[0m eta \u001b[36m0:00:00\u001b[0m\n",
            "\u001b[?25hInstalling collected packages: stevedore, rustworkx, qiskit, qiskit-aer\n",
            "Successfully installed qiskit-2.2.1 qiskit-aer-0.17.2 rustworkx-0.17.1 stevedore-5.5.0\n"
          ]
        }
      ]
    },
    {
      "cell_type": "code",
      "source": [
        "from qiskit import QuantumCircuit\n",
        "from qiskit_aer import AerSimulator"
      ],
      "metadata": {
        "id": "gI17i0yhrQgz"
      },
      "execution_count": 2,
      "outputs": []
    },
    {
      "cell_type": "code",
      "execution_count": 4,
      "metadata": {
        "id": "VPOwLacGrCdU",
        "colab": {
          "base_uri": "https://localhost:8080/"
        },
        "outputId": "5886bed5-e93c-4b20-9fa4-8a0b2b66e1ad"
      },
      "outputs": [
        {
          "output_type": "stream",
          "name": "stdout",
          "text": [
            "Qiskit AerSimulator test (Qiskit 2.x)\n",
            "Circuit:\n",
            "        ┌───┐ ░ ┌─┐\n",
            "     q: ┤ H ├─░─┤M├\n",
            "        └───┘ ░ └╥┘\n",
            "   c: 1/═════════╬═\n",
            "                 ║ \n",
            "meas: 1/═════════╩═\n",
            "                 0 \n",
            "Counts (shots=1024): {'1 0': 505, '0 0': 519}\n"
          ]
        }
      ],
      "source": [
        "# Verify Qiskit 2.x and AerSimulator\n",
        "from qiskit import QuantumCircuit, transpile\n",
        "from qiskit_aer import AerSimulator\n",
        "\n",
        "print(\"Qiskit AerSimulator test (Qiskit 2.x)\")\n",
        "\n",
        "def run_circuit(qc, shots):\n",
        "  \"\"\"Runs the given quantum circuit on AerSimulator with the specified number of shots.\"\"\"\n",
        "  # run on AerSimulator\n",
        "  sim = AerSimulator()\n",
        "  # compile/transpile for the simulator\n",
        "  tqc = transpile(qc, sim)\n",
        "  job = sim.run(tqc, shots=shots)\n",
        "  result = job.result()\n",
        "  counts = result.get_counts()\n",
        "  return counts\n",
        "\n",
        "# simple circuit: create superposition and measure\n",
        "qc_superposition = QuantumCircuit(1, 1)\n",
        "qc_superposition.h(0)\n",
        "qc_superposition.measure_all()\n",
        "\n",
        "print(\"Circuit:\")\n",
        "print(qc_superposition.draw())\n",
        "\n",
        "# Run with shots=1024 as before\n",
        "counts_1024 = run_circuit(qc_superposition, 1024)\n",
        "print(f\"Counts (shots=1024): {counts_1024}\")"
      ]
    },
    {
      "cell_type": "code",
      "source": [],
      "metadata": {
        "id": "icBXKhkL31Aw"
      },
      "execution_count": null,
      "outputs": []
    },
    {
      "cell_type": "markdown",
      "metadata": {
        "id": "c1ac9c95"
      },
      "source": [
        "### Experiment 1: Varying Shots for Single-Qubit Superposition\n",
        "\n",
        "Let's run the single-qubit superposition circuit with different numbers of shots (10, 1000, and 10000) and compare the results to the expected 50/50 distribution."
      ]
    },
    {
      "cell_type": "code",
      "metadata": {
        "colab": {
          "base_uri": "https://localhost:8080/"
        },
        "id": "47cf6f1b",
        "outputId": "a652ae35-ffc4-468b-8ac4-6c637c7aae95"
      },
      "source": [
        "# Run with shots=10\n",
        "counts_10 = run_circuit(qc_superposition, 10)\n",
        "print(f\"Counts (shots=10): {counts_10}\")\n",
        "\n",
        "# Run with shots=1000\n",
        "counts_1000 = run_circuit(qc_superposition, 1000)\n",
        "print(f\"Counts (shots=1000): {counts_1000}\")\n",
        "\n",
        "# Run with shots=10000\n",
        "counts_10000 = run_circuit(qc_superposition, 10000)\n",
        "print(f\"Counts (shots=10000): {counts_10000}\")"
      ],
      "execution_count": 5,
      "outputs": [
        {
          "output_type": "stream",
          "name": "stdout",
          "text": [
            "Counts (shots=10): {'1 0': 4, '0 0': 6}\n",
            "Counts (shots=1000): {'1 0': 498, '0 0': 502}\n",
            "Counts (shots=10000): {'1 0': 5032, '0 0': 4968}\n"
          ]
        }
      ]
    },
    {
      "cell_type": "markdown",
      "metadata": {
        "id": "52867e87"
      },
      "source": [
        "### Experiment 2: Two-Qubit Superposition\n",
        "\n",
        "Now, let's create and run a circuit with two qubits in superposition. We expect outcomes (00, 01, 10, 11) with approximately 25% probability for each."
      ]
    },
    {
      "cell_type": "code",
      "metadata": {
        "colab": {
          "base_uri": "https://localhost:8080/"
        },
        "id": "9f8c7bf8",
        "outputId": "6e7a5f60-8ce5-416d-b68b-5abc4f4f6e95"
      },
      "source": [
        "qc_two_superposition = QuantumCircuit(2, 2)\n",
        "qc_two_superposition.h(0)\n",
        "qc_two_superposition.h(1)\n",
        "qc_two_superposition.measure_all()\n",
        "\n",
        "print(\"\\nTwo-qubit Superposition Circuit:\")\n",
        "print(qc_two_superposition.draw())\n",
        "\n",
        "counts_two_superposition = run_circuit(qc_two_superposition, 1024)\n",
        "print(f\"Counts (shots=1024): {counts_two_superposition}\")"
      ],
      "execution_count": 6,
      "outputs": [
        {
          "output_type": "stream",
          "name": "stdout",
          "text": [
            "\n",
            "Two-qubit Superposition Circuit:\n",
            "        ┌───┐ ░ ┌─┐   \n",
            "   q_0: ┤ H ├─░─┤M├───\n",
            "        ├───┤ ░ └╥┘┌─┐\n",
            "   q_1: ┤ H ├─░──╫─┤M├\n",
            "        └───┘ ░  ║ └╥┘\n",
            "   c: 2/═════════╬══╬═\n",
            "                 ║  ║ \n",
            "meas: 2/═════════╩══╩═\n",
            "                 0  1 \n",
            "Counts (shots=1024): {'00 00': 271, '01 00': 259, '11 00': 264, '10 00': 230}\n"
          ]
        }
      ]
    },
    {
      "cell_type": "markdown",
      "metadata": {
        "id": "4f9b2bf6"
      },
      "source": [
        "### Experiment 3: Entangled State (Bell State)\n",
        "\n",
        "Next, we'll create a Bell state, which is an entangled state. For this circuit, we expect to see outcomes only of 00 and 11, with approximately 50% probability each."
      ]
    },
    {
      "cell_type": "code",
      "metadata": {
        "colab": {
          "base_uri": "https://localhost:8080/"
        },
        "id": "2c38f8e6",
        "outputId": "a1a07edf-e976-4e7e-88bf-4a127d42f30d"
      },
      "source": [
        "qc_bell_state = QuantumCircuit(2, 2)\n",
        "qc_bell_state.h(0)\n",
        "qc_bell_state.cx(0, 1)\n",
        "qc_bell_state.measure_all()\n",
        "\n",
        "print(\"\\nBell State Circuit:\")\n",
        "print(qc_bell_state.draw())\n",
        "\n",
        "counts_bell_state = run_circuit(qc_bell_state, 1024)\n",
        "print(f\"Counts (shots=1024): {counts_bell_state}\")"
      ],
      "execution_count": 7,
      "outputs": [
        {
          "output_type": "stream",
          "name": "stdout",
          "text": [
            "\n",
            "Bell State Circuit:\n",
            "        ┌───┐      ░ ┌─┐   \n",
            "   q_0: ┤ H ├──■───░─┤M├───\n",
            "        └───┘┌─┴─┐ ░ └╥┘┌─┐\n",
            "   q_1: ─────┤ X ├─░──╫─┤M├\n",
            "             └───┘ ░  ║ └╥┘\n",
            "   c: 2/══════════════╬══╬═\n",
            "                      ║  ║ \n",
            "meas: 2/══════════════╩══╩═\n",
            "                      0  1 \n",
            "Counts (shots=1024): {'00 00': 527, '11 00': 497}\n"
          ]
        }
      ]
    },
    {
      "cell_type": "markdown",
      "metadata": {
        "id": "186aa961"
      },
      "source": [
        "### Experiment 4: Applying an X Gate\n",
        "\n",
        "Let's see what happens when we replace the Hadamard gate with an X gate (a NOT gate). We expect the outcome to always be 1."
      ]
    },
    {
      "cell_type": "code",
      "metadata": {
        "colab": {
          "base_uri": "https://localhost:8080/"
        },
        "id": "38ccf18c",
        "outputId": "d23a1057-449f-4cb6-cc1f-ba3093223dbd"
      },
      "source": [
        "qc_x_gate = QuantumCircuit(1, 1)\n",
        "qc_x_gate.x(0)\n",
        "qc_x_gate.measure_all()\n",
        "\n",
        "print(\"\\nX Gate Circuit:\")\n",
        "print(qc_x_gate.draw())\n",
        "\n",
        "counts_x_gate = run_circuit(qc_x_gate, 1024)\n",
        "print(f\"Counts (shots=1024): {counts_x_gate}\")"
      ],
      "execution_count": 8,
      "outputs": [
        {
          "output_type": "stream",
          "name": "stdout",
          "text": [
            "\n",
            "X Gate Circuit:\n",
            "        ┌───┐ ░ ┌─┐\n",
            "     q: ┤ X ├─░─┤M├\n",
            "        └───┘ ░ └╥┘\n",
            "   c: 1/═════════╬═\n",
            "                 ║ \n",
            "meas: 1/═════════╩═\n",
            "                 0 \n",
            "Counts (shots=1024): {'1 0': 1024}\n"
          ]
        }
      ]
    },
    {
      "cell_type": "markdown",
      "metadata": {
        "id": "d5b95d1e"
      },
      "source": [
        "### Experiment 5: Three-Qubit Superposition (Challenge)\n",
        "\n",
        "Finally, let's create a superposition with three qubits. We expect 8 possible outcomes (000 through 111), each with approximately 12.5% probability."
      ]
    },
    {
      "cell_type": "code",
      "metadata": {
        "colab": {
          "base_uri": "https://localhost:8080/"
        },
        "id": "42fb7689",
        "outputId": "cc4713bc-df58-414b-bfe8-4c73beb9446b"
      },
      "source": [
        "qc_three_superposition = QuantumCircuit(3, 3)\n",
        "qc_three_superposition.h(0)\n",
        "qc_three_superposition.h(1)\n",
        "qc_three_superposition.h(2)\n",
        "qc_three_superposition.measure_all()\n",
        "\n",
        "print(\"\\nThree-qubit Superposition Circuit:\")\n",
        "print(qc_three_superposition.draw())\n",
        "\n",
        "counts_three_superposition = run_circuit(qc_three_superposition, 1024)\n",
        "print(f\"Counts (shots=1024): {counts_three_superposition}\")"
      ],
      "execution_count": 9,
      "outputs": [
        {
          "output_type": "stream",
          "name": "stdout",
          "text": [
            "\n",
            "Three-qubit Superposition Circuit:\n",
            "        ┌───┐ ░ ┌─┐      \n",
            "   q_0: ┤ H ├─░─┤M├──────\n",
            "        ├───┤ ░ └╥┘┌─┐   \n",
            "   q_1: ┤ H ├─░──╫─┤M├───\n",
            "        ├───┤ ░  ║ └╥┘┌─┐\n",
            "   q_2: ┤ H ├─░──╫──╫─┤M├\n",
            "        └───┘ ░  ║  ║ └╥┘\n",
            "   c: 3/═════════╬══╬══╬═\n",
            "                 ║  ║  ║ \n",
            "meas: 3/═════════╩══╩══╩═\n",
            "                 0  1  2 \n",
            "Counts (shots=1024): {'110 000': 124, '001 000': 124, '111 000': 124, '100 000': 126, '010 000': 132, '000 000': 126, '011 000': 139, '101 000': 129}\n"
          ]
        }
      ]
    }
  ]
}