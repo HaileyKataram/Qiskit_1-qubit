{
  "nbformat": 4,
  "nbformat_minor": 0,
  "metadata": {
    "colab": {
      "provenance": [],
      "include_colab_link": true
    },
    "kernelspec": {
      "name": "python3",
      "display_name": "Python 3"
    },
    "language_info": {
      "name": "python"
    }
  },
  "cells": [
    {
      "cell_type": "markdown",
      "metadata": {
        "id": "view-in-github",
        "colab_type": "text"
      },
      "source": [
        "<a href=\"https://colab.research.google.com/github/HaileyKataram/Qiskit_1-qubit/blob/main/Qiskit_single_qubit_gates.ipynb\" target=\"_parent\"><img src=\"https://colab.research.google.com/assets/colab-badge.svg\" alt=\"Open In Colab\"/></a>"
      ]
    },
    {
      "cell_type": "code",
      "source": [
        "!pip install qiskit qiskit-aer --upgrade"
      ],
      "metadata": {
        "id": "Mx6284lurNt1",
        "colab": {
          "base_uri": "https://localhost:8080/"
        },
        "outputId": "602737f1-7469-4d56-923c-1c8dd7762865"
      },
      "execution_count": 1,
      "outputs": [
        {
          "output_type": "stream",
          "name": "stdout",
          "text": [
            "Collecting qiskit\n",
            "  Downloading qiskit-2.2.2-cp39-abi3-manylinux2014_x86_64.manylinux_2_17_x86_64.whl.metadata (12 kB)\n",
            "Collecting qiskit-aer\n",
            "  Downloading qiskit_aer-0.17.2-cp312-cp312-manylinux_2_17_x86_64.manylinux2014_x86_64.whl.metadata (8.3 kB)\n",
            "Collecting rustworkx>=0.15.0 (from qiskit)\n",
            "  Downloading rustworkx-0.17.1-cp39-abi3-manylinux_2_17_x86_64.manylinux2014_x86_64.whl.metadata (10 kB)\n",
            "Requirement already satisfied: numpy<3,>=1.17 in /usr/local/lib/python3.12/dist-packages (from qiskit) (2.0.2)\n",
            "Requirement already satisfied: scipy>=1.5 in /usr/local/lib/python3.12/dist-packages (from qiskit) (1.16.2)\n",
            "Requirement already satisfied: dill>=0.3 in /usr/local/lib/python3.12/dist-packages (from qiskit) (0.3.8)\n",
            "Collecting stevedore>=3.0.0 (from qiskit)\n",
            "  Downloading stevedore-5.5.0-py3-none-any.whl.metadata (2.2 kB)\n",
            "Requirement already satisfied: typing-extensions in /usr/local/lib/python3.12/dist-packages (from qiskit) (4.15.0)\n",
            "Requirement already satisfied: psutil>=5 in /usr/local/lib/python3.12/dist-packages (from qiskit-aer) (5.9.5)\n",
            "Requirement already satisfied: python-dateutil>=2.8.0 in /usr/local/lib/python3.12/dist-packages (from qiskit-aer) (2.9.0.post0)\n",
            "Requirement already satisfied: six>=1.5 in /usr/local/lib/python3.12/dist-packages (from python-dateutil>=2.8.0->qiskit-aer) (1.17.0)\n",
            "Downloading qiskit-2.2.2-cp39-abi3-manylinux2014_x86_64.manylinux_2_17_x86_64.whl (8.0 MB)\n",
            "\u001b[2K   \u001b[90m━━━━━━━━━━━━━━━━━━━━━━━━━━━━━━━━━━━━━━━━\u001b[0m \u001b[32m8.0/8.0 MB\u001b[0m \u001b[31m47.9 MB/s\u001b[0m eta \u001b[36m0:00:00\u001b[0m\n",
            "\u001b[?25hDownloading qiskit_aer-0.17.2-cp312-cp312-manylinux_2_17_x86_64.manylinux2014_x86_64.whl (12.4 MB)\n",
            "\u001b[2K   \u001b[90m━━━━━━━━━━━━━━━━━━━━━━━━━━━━━━━━━━━━━━━━\u001b[0m \u001b[32m12.4/12.4 MB\u001b[0m \u001b[31m57.2 MB/s\u001b[0m eta \u001b[36m0:00:00\u001b[0m\n",
            "\u001b[?25hDownloading rustworkx-0.17.1-cp39-abi3-manylinux_2_17_x86_64.manylinux2014_x86_64.whl (2.2 MB)\n",
            "\u001b[2K   \u001b[90m━━━━━━━━━━━━━━━━━━━━━━━━━━━━━━━━━━━━━━━━\u001b[0m \u001b[32m2.2/2.2 MB\u001b[0m \u001b[31m55.9 MB/s\u001b[0m eta \u001b[36m0:00:00\u001b[0m\n",
            "\u001b[?25hDownloading stevedore-5.5.0-py3-none-any.whl (49 kB)\n",
            "\u001b[2K   \u001b[90m━━━━━━━━━━━━━━━━━━━━━━━━━━━━━━━━━━━━━━━━\u001b[0m \u001b[32m49.5/49.5 kB\u001b[0m \u001b[31m632.2 kB/s\u001b[0m eta \u001b[36m0:00:00\u001b[0m\n",
            "\u001b[?25hInstalling collected packages: stevedore, rustworkx, qiskit, qiskit-aer\n",
            "Successfully installed qiskit-2.2.2 qiskit-aer-0.17.2 rustworkx-0.17.1 stevedore-5.5.0\n"
          ]
        }
      ]
    },
    {
      "cell_type": "code",
      "execution_count": 3,
      "metadata": {
        "id": "VPOwLacGrCdU",
        "colab": {
          "base_uri": "https://localhost:8080/"
        },
        "outputId": "ab5e842e-7dc2-4015-8335-5b46d7588b19"
      },
      "outputs": [
        {
          "output_type": "stream",
          "name": "stdout",
          "text": [
            "--- Task 1: Change Gate Order ---\n",
            "Quantum Circuit (Swapped X and H):\n",
            "        ┌───┐┌───┐┌───┐┌───┐┌─────────┐ ░ ┌─┐\n",
            "     q: ┤ H ├┤ X ├┤ S ├┤ T ├┤ Rz(0.5) ├─░─┤M├\n",
            "        └───┘└───┘└───┘└───┘└─────────┘ ░ └╥┘\n",
            "   c: 1/═══════════════════════════════════╬═\n",
            "                                           ║ \n",
            "meas: 1/═══════════════════════════════════╩═\n",
            "                                           0 \n",
            "\n",
            "Measurement Counts (Swapped X and H): {'0 0': 525, '1 0': 499}\n",
            "\n",
            "--- Task 2: Vary Rotation Angle ---\n",
            "\n",
            "Angle: 0.7853981633974483\n",
            "Measurement Counts: {'1 0': 508, '0 0': 516}\n",
            "\n",
            "Angle: 1.5707963267948966\n",
            "Measurement Counts: {'1 0': 516, '0 0': 508}\n",
            "\n",
            "Angle: 3.141592653589793\n",
            "Measurement Counts: {'0 0': 516, '1 0': 508}\n",
            "\n",
            "--- Task 3: Remove a Gate ---\n",
            "Quantum Circuit (Hadamard Removed):\n",
            "        ┌───┐┌───┐┌───┐┌─────────┐ ░ ┌─┐\n",
            "     q: ┤ X ├┤ S ├┤ T ├┤ Rz(0.5) ├─░─┤M├\n",
            "        └───┘└───┘└───┘└─────────┘ ░ └╥┘\n",
            "   c: 1/══════════════════════════════╬═\n",
            "                                      ║ \n",
            "meas: 1/══════════════════════════════╩═\n",
            "                                      0 \n",
            "\n",
            "Measurement Counts (Hadamard Removed): {'1 0': 1024}\n"
          ]
        }
      ],
      "source": [
        "from qiskit import QuantumCircuit, transpile\n",
        "from qiskit_aer import AerSimulator\n",
        "import numpy as np\n",
        "\n",
        "# Initialize simulator\n",
        "sim = AerSimulator()\n",
        "\n",
        "# --- Task 1: Change Gate Order ---\n",
        "print(\"--- Task 1: Change Gate Order ---\")\n",
        "qc1 = QuantumCircuit(1, 1)\n",
        "\n",
        "# Apply sequence of single-qubit gates with swapped X and H\n",
        "qc1.h(0)        # Hadamard (superposition)\n",
        "qc1.x(0)        # Pauli-X (NOT gate)\n",
        "qc1.s(0)        # Phase gate (π/2)\n",
        "qc1.t(0)        # T gate (π/4)\n",
        "qc1.rz(0.5, 0)  # Z-axis rotation by 0.5 radians\n",
        "\n",
        "# Measure final state\n",
        "qc1.measure_all()\n",
        "\n",
        "# Display circuit\n",
        "print(\"Quantum Circuit (Swapped X and H):\")\n",
        "print(qc1.draw())\n",
        "\n",
        "# Run simulation\n",
        "compiled1 = transpile(qc1, sim)\n",
        "result1 = sim.run(compiled1, shots=1024).result()\n",
        "\n",
        "# Display results\n",
        "counts1 = result1.get_counts()\n",
        "print(\"\\nMeasurement Counts (Swapped X and H):\", counts1)\n",
        "\n",
        "# --- Task 2: Vary Rotation Angle ---\n",
        "print(\"\\n--- Task 2: Vary Rotation Angle ---\")\n",
        "\n",
        "angles = [np.pi/4, np.pi/2, np.pi]\n",
        "\n",
        "for angle in angles:\n",
        "    print(f\"\\nAngle: {angle}\")\n",
        "    qc2 = QuantumCircuit(1, 1)\n",
        "\n",
        "    # Apply sequence of single-qubit gates with varied Rz angle\n",
        "    qc2.x(0)        # Pauli-X (NOT gate)\n",
        "    qc2.h(0)        # Hadamard (superposition)\n",
        "    qc2.s(0)        # Phase gate (π/2)\n",
        "    qc2.t(0)        # T gate (π/4)\n",
        "    qc2.rz(angle, 0)  # Z-axis rotation by 'angle' radians\n",
        "\n",
        "    # Measure final state\n",
        "    qc2.measure_all()\n",
        "\n",
        "    # Run simulation\n",
        "    compiled2 = transpile(qc2, sim)\n",
        "    result2 = sim.run(compiled2, shots=1024).result()\n",
        "\n",
        "    # Display results\n",
        "    counts2 = result2.get_counts()\n",
        "    print(\"Measurement Counts:\", counts2)\n",
        "\n",
        "# --- Task 3: Remove a Gate ---\n",
        "print(\"\\n--- Task 3: Remove a Gate ---\")\n",
        "qc3 = QuantumCircuit(1, 1)\n",
        "\n",
        "# Apply sequence of single-qubit gates with H removed\n",
        "qc3.x(0)        # Pauli-X (NOT gate)\n",
        "# qc3.h(0)      # Hadamard (superposition) - Removed\n",
        "qc3.s(0)        # Phase gate (π/2)\n",
        "qc3.t(0)        # T gate (π/4)\n",
        "qc3.rz(0.5, 0)  # Z-axis rotation by 0.5 radians\n",
        "\n",
        "# Measure final state\n",
        "qc3.measure_all()\n",
        "\n",
        "# Display circuit\n",
        "print(\"Quantum Circuit (Hadamard Removed):\")\n",
        "print(qc3.draw())\n",
        "\n",
        "# Run simulation\n",
        "compiled3 = transpile(qc3, sim)\n",
        "result3 = sim.run(compiled3, shots=1024).result()\n",
        "\n",
        "# Display results\n",
        "counts3 = result3.get_counts()\n",
        "print(\"\\nMeasurement Counts (Hadamard Removed):\", counts3)"
      ]
    },
    {
      "cell_type": "code",
      "source": [],
      "metadata": {
        "id": "XXSzfpG9q7hc"
      },
      "execution_count": null,
      "outputs": []
    }
  ]
}